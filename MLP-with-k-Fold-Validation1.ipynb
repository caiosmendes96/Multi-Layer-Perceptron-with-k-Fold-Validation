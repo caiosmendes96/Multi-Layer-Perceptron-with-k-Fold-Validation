{
 "cells": [
  {
   "cell_type": "markdown",
   "id": "f087eaf0",
   "metadata": {},
   "source": [
    "\n",
    "<div align=\"center\">\n",
    "    <h1>Atividade 3 - Caio Sousa Mendes e Felipe Baqueiro </h1>\n",
    "    <h3>ENGG67- T01 - Tópicos especiais em engenharia de computação </h3>\n",
    "    <h4>Prof.: Antônio C. L. Fernandes Júnior</h4>\n",
    "</div>"
   ]
  },
  {
   "cell_type": "markdown",
   "id": "cd07caf9",
   "metadata": {},
   "source": [
    " <br>\n",
    " \n",
    "<font size=\"3\"><b> Importação do banco de dados \"winequality\" para a regressão utilizando Multilayer Perceptron (MLP) com método de validação cruzada k-fold.</b>  </font>  \n"
   ]
  },
  {
   "cell_type": "code",
   "execution_count": 21,
   "id": "9f7df8df",
   "metadata": {
    "scrolled": true
   },
   "outputs": [
    {
     "name": "stdout",
     "output_type": "stream",
     "text": [
      "Quantidade de objetos do banco de dados: 1599\n",
      "Quantidade de atributos do banco de dados: 12\n"
     ]
    },
    {
     "data": {
      "text/html": [
       "<div>\n",
       "<style scoped>\n",
       "    .dataframe tbody tr th:only-of-type {\n",
       "        vertical-align: middle;\n",
       "    }\n",
       "\n",
       "    .dataframe tbody tr th {\n",
       "        vertical-align: top;\n",
       "    }\n",
       "\n",
       "    .dataframe thead th {\n",
       "        text-align: right;\n",
       "    }\n",
       "</style>\n",
       "<table border=\"1\" class=\"dataframe\">\n",
       "  <thead>\n",
       "    <tr style=\"text-align: right;\">\n",
       "      <th></th>\n",
       "      <th>fixed acidity</th>\n",
       "      <th>volatile acidity</th>\n",
       "      <th>citric acid</th>\n",
       "      <th>residual sugar</th>\n",
       "      <th>chlorides</th>\n",
       "      <th>free sulfur dioxide</th>\n",
       "      <th>total sulfur dioxide</th>\n",
       "      <th>density</th>\n",
       "      <th>pH</th>\n",
       "      <th>sulphates</th>\n",
       "      <th>alcohol</th>\n",
       "      <th>quality</th>\n",
       "    </tr>\n",
       "  </thead>\n",
       "  <tbody>\n",
       "    <tr>\n",
       "      <th>1331</th>\n",
       "      <td>7.8</td>\n",
       "      <td>0.87</td>\n",
       "      <td>0.26</td>\n",
       "      <td>3.8</td>\n",
       "      <td>0.107</td>\n",
       "      <td>31.0</td>\n",
       "      <td>67.0</td>\n",
       "      <td>0.99668</td>\n",
       "      <td>3.26</td>\n",
       "      <td>0.46</td>\n",
       "      <td>9.2</td>\n",
       "      <td>5</td>\n",
       "    </tr>\n",
       "    <tr>\n",
       "      <th>906</th>\n",
       "      <td>7.2</td>\n",
       "      <td>0.54</td>\n",
       "      <td>0.27</td>\n",
       "      <td>2.6</td>\n",
       "      <td>0.084</td>\n",
       "      <td>12.0</td>\n",
       "      <td>78.0</td>\n",
       "      <td>0.99640</td>\n",
       "      <td>3.39</td>\n",
       "      <td>0.71</td>\n",
       "      <td>11.0</td>\n",
       "      <td>5</td>\n",
       "    </tr>\n",
       "    <tr>\n",
       "      <th>552</th>\n",
       "      <td>9.5</td>\n",
       "      <td>0.46</td>\n",
       "      <td>0.24</td>\n",
       "      <td>2.7</td>\n",
       "      <td>0.092</td>\n",
       "      <td>14.0</td>\n",
       "      <td>44.0</td>\n",
       "      <td>0.99800</td>\n",
       "      <td>3.12</td>\n",
       "      <td>0.74</td>\n",
       "      <td>10.0</td>\n",
       "      <td>6</td>\n",
       "    </tr>\n",
       "    <tr>\n",
       "      <th>1283</th>\n",
       "      <td>8.7</td>\n",
       "      <td>0.63</td>\n",
       "      <td>0.28</td>\n",
       "      <td>2.7</td>\n",
       "      <td>0.096</td>\n",
       "      <td>17.0</td>\n",
       "      <td>69.0</td>\n",
       "      <td>0.99734</td>\n",
       "      <td>3.26</td>\n",
       "      <td>0.63</td>\n",
       "      <td>10.2</td>\n",
       "      <td>6</td>\n",
       "    </tr>\n",
       "    <tr>\n",
       "      <th>434</th>\n",
       "      <td>10.4</td>\n",
       "      <td>0.41</td>\n",
       "      <td>0.55</td>\n",
       "      <td>3.2</td>\n",
       "      <td>0.076</td>\n",
       "      <td>22.0</td>\n",
       "      <td>54.0</td>\n",
       "      <td>0.99960</td>\n",
       "      <td>3.15</td>\n",
       "      <td>0.89</td>\n",
       "      <td>9.9</td>\n",
       "      <td>6</td>\n",
       "    </tr>\n",
       "  </tbody>\n",
       "</table>\n",
       "</div>"
      ],
      "text/plain": [
       "      fixed acidity  volatile acidity  citric acid  residual sugar  chlorides  \\\n",
       "1331            7.8              0.87         0.26             3.8      0.107   \n",
       "906             7.2              0.54         0.27             2.6      0.084   \n",
       "552             9.5              0.46         0.24             2.7      0.092   \n",
       "1283            8.7              0.63         0.28             2.7      0.096   \n",
       "434            10.4              0.41         0.55             3.2      0.076   \n",
       "\n",
       "      free sulfur dioxide  total sulfur dioxide  density    pH  sulphates  \\\n",
       "1331                 31.0                  67.0  0.99668  3.26       0.46   \n",
       "906                  12.0                  78.0  0.99640  3.39       0.71   \n",
       "552                  14.0                  44.0  0.99800  3.12       0.74   \n",
       "1283                 17.0                  69.0  0.99734  3.26       0.63   \n",
       "434                  22.0                  54.0  0.99960  3.15       0.89   \n",
       "\n",
       "      alcohol  quality  \n",
       "1331      9.2        5  \n",
       "906      11.0        5  \n",
       "552      10.0        6  \n",
       "1283     10.2        6  \n",
       "434       9.9        6  "
      ]
     },
     "execution_count": 21,
     "metadata": {},
     "output_type": "execute_result"
    }
   ],
   "source": [
    "import pandas as pd\n",
    "import numpy as np\n",
    "import matplotlib.pyplot as plt\n",
    "import seaborn as sns\n",
    "from sklearn.model_selection import train_test_split\n",
    "from statistics import mean\n",
    "from sklearn.metrics import accuracy_score \n",
    "from sklearn.metrics import explained_variance_score as evs\n",
    "from sklearn.metrics import mean_squared_error\n",
    "from sklearn.neural_network import MLPRegressor\n",
    "\n",
    "dadosVinho = pd.read_csv('./winequality-red.csv')\n",
    "\n",
    "print(\"Quantidade de objetos do banco de dados:\", dadosVinho.shape[0])\n",
    "print(\"Quantidade de atributos do banco de dados:\", dadosVinho.shape[1])\n",
    "\n",
    "dadosVinho.sample(5)"
   ]
  },
  {
   "cell_type": "markdown",
   "id": "bad83e05",
   "metadata": {},
   "source": [
    " <br>\n",
    "<font size=\"4\">  \n",
    "    <b >Histograma da classe alvo quality</b>\n",
    "</font> "
   ]
  },
  {
   "cell_type": "code",
   "execution_count": 22,
   "id": "5f66a504",
   "metadata": {
    "scrolled": true
   },
   "outputs": [
    {
     "data": {
      "text/plain": [
       "Text(0.5, 1.0, 'Classe alvo: quality')"
      ]
     },
     "execution_count": 22,
     "metadata": {},
     "output_type": "execute_result"
    },
    {
     "data": {
      "image/png": "[encoded data removed]",
      "text/plain": [
       "<Figure size 500x300 with 1 Axes>"
      ]
     },
     "metadata": {},
     "output_type": "display_data"
    }
   ],
   "source": [
    "\n",
    "fig1,figuraQualidade = plt.subplots(figsize=(5,3))\n",
    "sns.countplot(x = dadosVinho['quality'])\n",
    "figuraQualidade.set_xlabel('Qualidade do vinho')\n",
    "figuraQualidade.set_ylabel('Quantidade')\n",
    "figuraQualidade.set_title('Classe alvo: quality')"
   ]
  },
  {
   "cell_type": "markdown",
   "id": "f74d5623",
   "metadata": {},
   "source": [
    "Podemos observar que a classe está altamente concentrada em dois valores, assim havendo um desbalanceamento que pode influenciar no desempenho da regressão."
   ]
  },
  {
   "cell_type": "markdown",
   "id": "931dc97a",
   "metadata": {},
   "source": [
    " <br>\n",
    "<font size=\"4\">  \n",
    "    <b>Normalização dos dados</b>\n",
    "</font> "
   ]
  },
  {
   "cell_type": "code",
   "execution_count": 23,
   "id": "f17d3693",
   "metadata": {},
   "outputs": [
    {
     "data": {
      "text/html": [
       "<div>\n",
       "<style scoped>\n",
       "    .dataframe tbody tr th:only-of-type {\n",
       "        vertical-align: middle;\n",
       "    }\n",
       "\n",
       "    .dataframe tbody tr th {\n",
       "        vertical-align: top;\n",
       "    }\n",
       "\n",
       "    .dataframe thead th {\n",
       "        text-align: right;\n",
       "    }\n",
       "</style>\n",
       "<table border=\"1\" class=\"dataframe\">\n",
       "  <thead>\n",
       "    <tr style=\"text-align: right;\">\n",
       "      <th></th>\n",
       "      <th>fixed acidity</th>\n",
       "      <th>volatile acidity</th>\n",
       "      <th>citric acid</th>\n",
       "      <th>residual sugar</th>\n",
       "      <th>chlorides</th>\n",
       "      <th>free sulfur dioxide</th>\n",
       "      <th>total sulfur dioxide</th>\n",
       "      <th>density</th>\n",
       "      <th>pH</th>\n",
       "      <th>sulphates</th>\n",
       "      <th>alcohol</th>\n",
       "    </tr>\n",
       "  </thead>\n",
       "  <tbody>\n",
       "    <tr>\n",
       "      <th>1482</th>\n",
       "      <td>0.441968</td>\n",
       "      <td>0.035603</td>\n",
       "      <td>0.033148</td>\n",
       "      <td>0.128907</td>\n",
       "      <td>0.006998</td>\n",
       "      <td>0.184153</td>\n",
       "      <td>0.552460</td>\n",
       "      <td>0.061212</td>\n",
       "      <td>0.204410</td>\n",
       "      <td>0.034989</td>\n",
       "      <td>0.632260</td>\n",
       "    </tr>\n",
       "    <tr>\n",
       "      <th>1254</th>\n",
       "      <td>0.182745</td>\n",
       "      <td>0.016400</td>\n",
       "      <td>0.001406</td>\n",
       "      <td>0.044515</td>\n",
       "      <td>0.001851</td>\n",
       "      <td>0.468577</td>\n",
       "      <td>0.820010</td>\n",
       "      <td>0.023342</td>\n",
       "      <td>0.079658</td>\n",
       "      <td>0.016166</td>\n",
       "      <td>0.255374</td>\n",
       "    </tr>\n",
       "    <tr>\n",
       "      <th>295</th>\n",
       "      <td>0.345290</td>\n",
       "      <td>0.015986</td>\n",
       "      <td>0.014707</td>\n",
       "      <td>0.079928</td>\n",
       "      <td>0.002334</td>\n",
       "      <td>0.159856</td>\n",
       "      <td>0.863224</td>\n",
       "      <td>0.031974</td>\n",
       "      <td>0.097512</td>\n",
       "      <td>0.020462</td>\n",
       "      <td>0.303727</td>\n",
       "    </tr>\n",
       "    <tr>\n",
       "      <th>1486</th>\n",
       "      <td>0.243475</td>\n",
       "      <td>0.024347</td>\n",
       "      <td>0.007519</td>\n",
       "      <td>0.075191</td>\n",
       "      <td>0.002506</td>\n",
       "      <td>0.322246</td>\n",
       "      <td>0.823518</td>\n",
       "      <td>0.035643</td>\n",
       "      <td>0.121021</td>\n",
       "      <td>0.021483</td>\n",
       "      <td>0.368793</td>\n",
       "    </tr>\n",
       "    <tr>\n",
       "      <th>1424</th>\n",
       "      <td>0.299436</td>\n",
       "      <td>0.009380</td>\n",
       "      <td>0.013348</td>\n",
       "      <td>0.050507</td>\n",
       "      <td>0.002742</td>\n",
       "      <td>0.288613</td>\n",
       "      <td>0.829761</td>\n",
       "      <td>0.035983</td>\n",
       "      <td>0.117610</td>\n",
       "      <td>0.025254</td>\n",
       "      <td>0.346335</td>\n",
       "    </tr>\n",
       "  </tbody>\n",
       "</table>\n",
       "</div>"
      ],
      "text/plain": [
       "      fixed acidity  volatile acidity  citric acid  residual sugar  chlorides  \\\n",
       "1482       0.441968          0.035603     0.033148        0.128907   0.006998   \n",
       "1254       0.182745          0.016400     0.001406        0.044515   0.001851   \n",
       "295        0.345290          0.015986     0.014707        0.079928   0.002334   \n",
       "1486       0.243475          0.024347     0.007519        0.075191   0.002506   \n",
       "1424       0.299436          0.009380     0.013348        0.050507   0.002742   \n",
       "\n",
       "      free sulfur dioxide  total sulfur dioxide   density        pH  \\\n",
       "1482             0.184153              0.552460  0.061212  0.204410   \n",
       "1254             0.468577              0.820010  0.023342  0.079658   \n",
       "295              0.159856              0.863224  0.031974  0.097512   \n",
       "1486             0.322246              0.823518  0.035643  0.121021   \n",
       "1424             0.288613              0.829761  0.035983  0.117610   \n",
       "\n",
       "      sulphates   alcohol  \n",
       "1482   0.034989  0.632260  \n",
       "1254   0.016166  0.255374  \n",
       "295    0.020462  0.303727  \n",
       "1486   0.021483  0.368793  \n",
       "1424   0.025254  0.346335  "
      ]
     },
     "execution_count": 23,
     "metadata": {},
     "output_type": "execute_result"
    }
   ],
   "source": [
    "from sklearn import preprocessing\n",
    "\n",
    "x = dadosVinho.drop(['quality'], axis = 1)\n",
    "\n",
    "arrayNormalizacao = preprocessing.normalize(x)\n",
    "dadosNormalizados = pd.DataFrame(arrayNormalizacao, columns = x.columns)\n",
    "dadosNormalizados.sample(5)"
   ]
  },
  {
   "cell_type": "markdown",
   "id": "4fcb4574",
   "metadata": {},
   "source": [
    " <br>\n",
    "<font size=\"4\">  \n",
    "    <b>Separação da classe alvo</b>\n",
    "</font> "
   ]
  },
  {
   "cell_type": "code",
   "execution_count": 24,
   "id": "862666e4",
   "metadata": {},
   "outputs": [],
   "source": [
    "y = dadosVinho['quality']"
   ]
  },
  {
   "cell_type": "markdown",
   "id": "14319494",
   "metadata": {},
   "source": [
    "<br>\n",
    "<font size=\"4\">  \n",
    "    <b>MLP regressor com 12 neurônios na camada escondida e 1 neurônio na camada de saida</b>\n",
    "</font> "
   ]
  },
  {
   "cell_type": "code",
   "execution_count": 64,
   "id": "0b3f2920",
   "metadata": {},
   "outputs": [],
   "source": [
    "mlp = MLPRegressor(hidden_layer_sizes = (12), \n",
    "                    random_state=3, \n",
    "                    activation = 'relu')"
   ]
  },
  {
   "cell_type": "markdown",
   "id": "2df33181",
   "metadata": {},
   "source": [
    "<br>\n",
    "<font size=\"4\">  \n",
    "    <b>Separação 70% do banco de dados para treinamento e 30% para teste</b>\n",
    "</font> "
   ]
  },
  {
   "cell_type": "code",
   "execution_count": 26,
   "id": "62f4cc0f",
   "metadata": {},
   "outputs": [],
   "source": [
    "train_X, test_X, train_y, test_y = train_test_split(x, y, test_size = 0.3, random_state = 20)"
   ]
  },
  {
   "cell_type": "markdown",
   "id": "ccfab7b2",
   "metadata": {},
   "source": [
    "<br>\n",
    "<font size=\"4\">  \n",
    "    <b>Validação cruzada k-fold, com 5 partições (k = 5)</b>\n",
    "</font> \n",
    "\n",
    "Com o método k-fold, podemos plotar a curva de perda a decorrer das épocas utilizando a métrica para regressão Erro Quadrático Médio (MSE). Esse método nos ajuda a estimar o desempenho do modelo."
   ]
  },
  {
   "cell_type": "code",
   "execution_count": 65,
   "id": "71cfccb6",
   "metadata": {
    "scrolled": true
   },
   "outputs": [
    {
     "data": {
      "image/png": "[encoded data removed]",
      "text/plain": [
       "<Figure size 500x300 with 1 Axes>"
      ]
     },
     "metadata": {},
     "output_type": "display_data"
    }
   ],
   "source": [
    "from sklearn.model_selection import KFold\n",
    "from sklearn.model_selection import cross_val_score\n",
    "from sklearn.model_selection import validation_curve\n",
    "import warnings\n",
    "warnings.filterwarnings(\"ignore\")\n",
    "\n",
    "\n",
    "param_range = np.arange(0,1000,80) \n",
    "k = 5\n",
    "kfold  = KFold(n_splits = k , shuffle=True)\n",
    "\n",
    "train_scores, test_scores = validation_curve(\n",
    "                            mlp, train_X, train_y, param_name=\"max_iter\", param_range=param_range,\n",
    "                            scoring=\"neg_mean_squared_error\", cv=kfold)\n",
    "\n",
    "train_scores_mean = -np.mean(train_scores, axis=1)\n",
    "test_scores_mean = -np.mean(test_scores, axis=1)\n",
    "train_scores_std = np.std(train_scores, axis=1)\n",
    "test_scores_std = np.std(test_scores, axis=1)\n",
    "\n",
    "\n",
    "plt.figure(figsize=(5, 3))\n",
    "plt.title(\"Curva de treinamento e validação por épocas\")\n",
    "plt.xlabel(\"Número de épocas\")\n",
    "plt.ylabel(\"MSE\")\n",
    "\n",
    "plt.plot(param_range, train_scores_mean, label=\"Treinamento\", color=\"darkorange\", marker='.')\n",
    "plt.plot(param_range, test_scores_mean, label=\"Validação\", color=\"navy\", marker='.')\n",
    "plt.legend(loc=\"best\")\n",
    "plt.show()\n"
   ]
  },
  {
   "cell_type": "markdown",
   "id": "de1919a3",
   "metadata": {},
   "source": [
    "O gráfico acima está iterando percorrendo de 0 a 1000 épocas em intervalos de 80 épocas calculando seu MSE. \n",
    "\n",
    "Podemos observar que o modelo converge e permanece constante com a diferença de erro pequena entre as curvas de validação e treinamento a partir de 450 épocas aproximadamente.\n"
   ]
  },
  {
   "cell_type": "markdown",
   "id": "401b77ff",
   "metadata": {},
   "source": [
    "<br>\n",
    "<font size=\"4\">  \n",
    "    <b>Erro quadrático médio com banco de dados teste:</b>\n",
    "</font> "
   ]
  },
  {
   "cell_type": "code",
   "execution_count": 67,
   "id": "112a4aa4",
   "metadata": {
    "scrolled": false
   },
   "outputs": [
    {
     "name": "stdout",
     "output_type": "stream",
     "text": [
      "Erro quadrático médio: 0.4881707241720792\n"
     ]
    }
   ],
   "source": [
    "mlp.fit(train_X,train_y)\n",
    "pred = mlp.predict(test_X)\n",
    "print(\"Erro quadrático médio:\", mean_squared_error(test_y, pred))\n"
   ]
  },
  {
   "cell_type": "markdown",
   "id": "ced4d2d7",
   "metadata": {},
   "source": [
    "<br>\n",
    "<font size=\"4\">  \n",
    "    <b>Erro absoluto médio com banco de dados teste:</b>\n",
    "</font> "
   ]
  },
  {
   "cell_type": "code",
   "execution_count": 68,
   "id": "6bd1a360",
   "metadata": {},
   "outputs": [
    {
     "name": "stdout",
     "output_type": "stream",
     "text": [
      "Erro absoluto médio: 0.5242629921217307\n"
     ]
    }
   ],
   "source": [
    "from sklearn.metrics import mean_absolute_error\n",
    "\n",
    "print(\"Erro absoluto médio:\", mean_absolute_error(test_y, pred))\n"
   ]
  },
  {
   "cell_type": "markdown",
   "id": "71cdb535",
   "metadata": {},
   "source": [
    "A escala da classe alvo quality é (3,4,5,6,7,8). Então esses erros calculados são razoáveis, considerando o desbalanceamento da classe."
   ]
  },
  {
   "cell_type": "markdown",
   "id": "39e0bcc7",
   "metadata": {},
   "source": [
    "<br>\n",
    "<font size=\"4\">  \n",
    "    <b>Comparação quality real vs quality treinado:</b>\n",
    "</font> "
   ]
  },
  {
   "cell_type": "code",
   "execution_count": 88,
   "id": "a4e9ec00",
   "metadata": {},
   "outputs": [
    {
     "data": {
      "text/plain": [
       "Text(0.5, 1.0, '')"
      ]
     },
     "execution_count": 88,
     "metadata": {},
     "output_type": "execute_result"
    },
    {
     "data": {
      "image/png": "[encoded data removed]",
      "text/plain": [
       "<Figure size 500x300 with 1 Axes>"
      ]
     },
     "metadata": {},
     "output_type": "display_data"
    }
   ],
   "source": [
    "fig1,figPredicao = plt.subplots(figsize=(5,3))\n",
    "figPredicao.scatter(test_y,pred, marker=\"o\")\n",
    "p1 = max(max(pred), max(test_y))\n",
    "p2 = min(min(pred), min(test_y))\n",
    "\n",
    "figPredicao.plot([p1, p2], [p1, p2], 'b-')\n",
    "figPredicao.set_xlabel('Qualidade real')\n",
    "figPredicao.set_ylabel('Qualidade predição')\n",
    "figPredicao.set_title('')"
   ]
  },
  {
   "cell_type": "markdown",
   "id": "cca7aec1",
   "metadata": {},
   "source": [
    "Com o gráfico acima, conseguimos visualizar que a maior concentração das predições com menor erro estão entre os valores 5 e 6. Esse fenômeno ocasionado pelo desbalanceamento. \n",
    "\n",
    "Algumas predições foram calculadas com erro elevado em comparação com o valor real.\n"
   ]
  },
  {
   "cell_type": "markdown",
   "id": "6a74498e",
   "metadata": {},
   "source": [
    "<br>\n",
    "<font size=\"4\">  \n",
    "    <b>Uma predição exemplo com o modelo treinado:</b>\n",
    "</font> \n"
   ]
  },
  {
   "cell_type": "code",
   "execution_count": 70,
   "id": "aff79611",
   "metadata": {},
   "outputs": [
    {
     "name": "stdout",
     "output_type": "stream",
     "text": [
      "Qualidade do vinho (tabela):  7\n",
      "Qualidade do vinho (resultado regressão MLP):  [6.10761965]\n"
     ]
    }
   ],
   "source": [
    "#Dados do objeto nº 407\n",
    "\n",
    "fixedAcidity = 12.00000\n",
    "volatileAcidity = 0.39000\n",
    "citricAcid = 0.66000\n",
    "residualSugar = 3.00000\n",
    "chlorides = 0.09300\n",
    "freeSulfurDioxide = 12.00000\n",
    "totalSulfurDioxide = 30.00000\n",
    "density = 0.99960\n",
    "pH = 3.18000\n",
    "sulphates = 0.63000\n",
    "alcohol = 10.80000\n",
    "mlp.fit(train_X, train_y)\n",
    "\n",
    "predicao = mlp.predict([[fixedAcidity,volatileAcidity,citricAcid,residualSugar,\n",
    "                                 chlorides,freeSulfurDioxide,totalSulfurDioxide,\n",
    "                                 density,pH,sulphates,alcohol],])\n",
    "\n",
    "print(\"Qualidade do vinho (tabela): \", test_y[407])\n",
    "print(\"Qualidade do vinho (resultado regressão MLP): \", predicao)\n"
   ]
  },
  {
   "cell_type": "markdown",
   "id": "c4f099f9",
   "metadata": {},
   "source": [
    "Por tanto, como a classe alvo está desbalanceada, algumas predições obtiveram maiores erros, como por exemplo o apresentado acima.\n",
    "Para diminuir esse MSE e consequentemente melhorar o desempenho da regressão nesse modelo, o balanceamento da classe alvo é necessário, pois o modelo irá tender o resultado para as classes com maior frequência (quality = 5 e quality = 6).\n",
    "\n",
    "Ou seja, o modelo irá atender bem na média para objetos que estão próximos dos valores relacionados a quality = 5 e 6."
   ]
  },
  {
   "cell_type": "code",
   "execution_count": null,
   "id": "474122af",
   "metadata": {},
   "outputs": [],
   "source": []
  }
 ],
 "metadata": {
  "kernelspec": {
   "display_name": "Python 3 (ipykernel)",
   "language": "python",
   "name": "python3"
  },
  "language_info": {
   "codemirror_mode": {
    "name": "ipython",
    "version": 3
   },
   "file_extension": ".py",
   "mimetype": "text/x-python",
   "name": "python",
   "nbconvert_exporter": "python",
   "pygments_lexer": "ipython3",
   "version": "3.11.5"
  }
 },
 "nbformat": 4,
 "nbformat_minor": 5
}
